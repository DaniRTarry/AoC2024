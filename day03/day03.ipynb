{
 "cells": [
  {
   "cell_type": "code",
   "execution_count": 86,
   "metadata": {},
   "outputs": [
    {
     "name": "stdout",
     "output_type": "stream",
     "text": [
      "Tue Dec  3 12:09:34 2024\n"
     ]
    }
   ],
   "source": [
    "import time\n",
    "print(time.ctime(time.time()))"
   ]
  },
  {
   "cell_type": "code",
   "execution_count": 87,
   "metadata": {},
   "outputs": [],
   "source": [
    "import os\n",
    "import re\n",
    "\n",
    "import numpy as np\n",
    "import pandas as pd\n",
    "\n",
    "from pathlib import Path"
   ]
  },
  {
   "cell_type": "code",
   "execution_count": 88,
   "metadata": {},
   "outputs": [],
   "source": [
    "# Day of calendar\n",
    "day = 3"
   ]
  },
  {
   "cell_type": "code",
   "execution_count": 89,
   "metadata": {},
   "outputs": [],
   "source": [
    "# Set path to input\n",
    "input_dir = Path(os.path.abspath('')).parent"
   ]
  },
  {
   "cell_type": "code",
   "execution_count": 90,
   "metadata": {},
   "outputs": [],
   "source": [
    "# Read input file\n",
    "filepath = os.path.join(input_dir,'inputs','input_day%02d.txt' %(day))\n",
    "#filepath = os.path.join(input_dir,'inputs','input_day%02d_test.txt' %(day))\n",
    "\n",
    "with open(filepath, 'r') as f:\n",
    "    lines = f.readlines()\n",
    "    input = lines\n",
    "input = ''.join(input)"
   ]
  },
  {
   "cell_type": "code",
   "execution_count": 91,
   "metadata": {},
   "outputs": [
    {
     "data": {
      "text/plain": [
       "19718"
      ]
     },
     "execution_count": 91,
     "metadata": {},
     "output_type": "execute_result"
    }
   ],
   "source": [
    "len(input)"
   ]
  },
  {
   "cell_type": "markdown",
   "metadata": {},
   "source": [
    "# Part 1"
   ]
  },
  {
   "cell_type": "markdown",
   "metadata": {},
   "source": [
    "Scan the corrupted memory for uncorrupted mul instructions"
   ]
  },
  {
   "cell_type": "code",
   "execution_count": 92,
   "metadata": {},
   "outputs": [],
   "source": [
    "# Uncorrupted command\n",
    "command = r\"mul\\(\\d+,\\d+\\)\"\n",
    "# Find all matches\n",
    "scan = re.findall(command, input)\n",
    "# Identify values\n",
    "values = np.vstack([np.array(re.findall(r'\\d+', comm)) for comm in scan]).astype(int)"
   ]
  },
  {
   "cell_type": "markdown",
   "metadata": {},
   "source": [
    "What do you get if you add up all of the results of the multiplications?"
   ]
  },
  {
   "cell_type": "code",
   "execution_count": 94,
   "metadata": {},
   "outputs": [
    {
     "data": {
      "text/plain": [
       "184511516"
      ]
     },
     "execution_count": 94,
     "metadata": {},
     "output_type": "execute_result"
    }
   ],
   "source": [
    "# Multiply and add them\n",
    "total_sum = np.sum(np.multiply(values[:,0],values[:,1]))\n",
    "total_sum"
   ]
  },
  {
   "cell_type": "markdown",
   "metadata": {},
   "source": [
    "# Part 2"
   ]
  },
  {
   "cell_type": "markdown",
   "metadata": {},
   "source": [
    "There are two new instructions you'll need to handle:\n",
    "\n",
    " - The do() instruction enables future mul instructions.\n",
    " - The don't() instruction disables future mul instructions."
   ]
  },
  {
   "cell_type": "code",
   "execution_count": 105,
   "metadata": {},
   "outputs": [],
   "source": [
    "pattern = r\"mul\\((\\d{1,3}),(\\d{1,3})\\)\" #Grouping\n",
    "instruction = r\"(do\\(\\)|don't\\(\\))\"\n",
    "\n",
    "all_matches = re.findall(f\"{instruction}|{pattern}\",input)"
   ]
  },
  {
   "cell_type": "code",
   "execution_count": 108,
   "metadata": {},
   "outputs": [],
   "source": [
    "total_sum=0\n",
    "# At the beginning of the program, mul instructions are enabled\n",
    "mul_enabled = True\n",
    "# Loop through all the matches\n",
    "for match in all_matches:\n",
    "    if match[0] == \"do()\":\n",
    "        mul_enabled = True\n",
    "    elif match[0] == \"don't()\":\n",
    "        mul_enabled = False\n",
    "    else:\n",
    "        if mul_enabled:\n",
    "            a, b = int(match[1]), int(match[2])\n",
    "            total_sum += a * b"
   ]
  },
  {
   "cell_type": "markdown",
   "metadata": {},
   "source": [
    "What do you get if you add up all of the results of just the enabled multiplications?"
   ]
  },
  {
   "cell_type": "code",
   "execution_count": 109,
   "metadata": {},
   "outputs": [
    {
     "data": {
      "text/plain": [
       "90044227"
      ]
     },
     "execution_count": 109,
     "metadata": {},
     "output_type": "execute_result"
    }
   ],
   "source": [
    "total_sum"
   ]
  }
 ],
 "metadata": {
  "kernelspec": {
   "display_name": "Python 3.12.2 ('mainPY')",
   "language": "python",
   "name": "python3"
  },
  "language_info": {
   "codemirror_mode": {
    "name": "ipython",
    "version": 3
   },
   "file_extension": ".py",
   "mimetype": "text/x-python",
   "name": "python",
   "nbconvert_exporter": "python",
   "pygments_lexer": "ipython3",
   "version": "3.12.2"
  },
  "orig_nbformat": 4,
  "vscode": {
   "interpreter": {
    "hash": "ffca37c6f31e58eb9bb38876b4a6e74a181435be9f0c175f8480959184efaa0d"
   }
  }
 },
 "nbformat": 4,
 "nbformat_minor": 2
}
