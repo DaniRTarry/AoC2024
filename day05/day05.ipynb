{
 "cells": [
  {
   "cell_type": "code",
   "execution_count": 224,
   "metadata": {},
   "outputs": [
    {
     "name": "stdout",
     "output_type": "stream",
     "text": [
      "Sat Dec  7 03:01:13 2024\n"
     ]
    }
   ],
   "source": [
    "import time\n",
    "print(time.ctime(time.time()))"
   ]
  },
  {
   "cell_type": "code",
   "execution_count": 225,
   "metadata": {},
   "outputs": [],
   "source": [
    "import os\n",
    "\n",
    "import numpy as np\n",
    "import pandas as pd\n",
    "\n",
    "from collections import Counter\n",
    "from pathlib import Path"
   ]
  },
  {
   "cell_type": "code",
   "execution_count": 226,
   "metadata": {},
   "outputs": [],
   "source": [
    "# Day of calendar\n",
    "day = 5"
   ]
  },
  {
   "cell_type": "code",
   "execution_count": 227,
   "metadata": {},
   "outputs": [],
   "source": [
    "# Set path to input\n",
    "input_dir = Path(os.path.abspath('')).parent"
   ]
  },
  {
   "cell_type": "code",
   "execution_count": 228,
   "metadata": {},
   "outputs": [],
   "source": [
    "# Read input file\n",
    "filepath = os.path.join(input_dir,'inputs','input_day%02d.txt' %(day))\n",
    "#filepath = os.path.join(input_dir,'inputs','input_day%02d_test.txt' %(day))\n",
    "rules = {}\n",
    "updates = []\n",
    "with open(filepath) as f:\n",
    "    for line in f:\n",
    "        if \"|\" in line:\n",
    "            a, b = line.strip().split(\"|\")\n",
    "            if a not in rules:\n",
    "                rules[a] = []\n",
    "            rules[a].append(b)\n",
    "        else:\n",
    "            if line.strip():\n",
    "                updates.append(line.strip().split(\",\"))"
   ]
  },
  {
   "cell_type": "markdown",
   "metadata": {},
   "source": [
    "## Part 1"
   ]
  },
  {
   "cell_type": "markdown",
   "metadata": {},
   "source": [
    "Determine which updates are already in the correct order"
   ]
  },
  {
   "cell_type": "code",
   "execution_count": 229,
   "metadata": {},
   "outputs": [],
   "source": [
    "def check_update(update):\n",
    "    for i in range(len(update)-1):\n",
    "        if update[i] in rules:\n",
    "            if not update[i+1] in rules[update[i]]:\n",
    "                return False\n",
    "        else:\n",
    "            return False\n",
    "    return True"
   ]
  },
  {
   "cell_type": "code",
   "execution_count": 230,
   "metadata": {},
   "outputs": [],
   "source": [
    "page_number_sum = 0\n",
    "for update in updates:\n",
    "    if check_update(update):\n",
    "        middle_page_idx = len(update) // 2\n",
    "        page_number_sum += int(update[middle_page_idx])\n"
   ]
  },
  {
   "cell_type": "code",
   "execution_count": 231,
   "metadata": {},
   "outputs": [
    {
     "name": "stdout",
     "output_type": "stream",
     "text": [
      "What do you get if you add up the middle page number from those correctly-ordered updates?? -> 5452\n"
     ]
    }
   ],
   "source": [
    "print(f'What do you get if you add up the middle page number from those correctly-ordered updates?? -> {page_number_sum}')"
   ]
  },
  {
   "cell_type": "markdown",
   "metadata": {},
   "source": [
    "## Part 2"
   ]
  },
  {
   "cell_type": "markdown",
   "metadata": {},
   "source": [
    "For each of the incorrectly-ordered updates, use the page ordering rules to put the page numbers in the right order."
   ]
  },
  {
   "cell_type": "code",
   "execution_count": 232,
   "metadata": {},
   "outputs": [],
   "source": [
    "def reorder_update(update):\n",
    "    i = 0  # Start index\n",
    "    while i < len(update) - 1:\n",
    "        if not update[i] in rules:\n",
    "            # Swap elements\n",
    "            update[i], update[i + 1] = update[i + 1], update[i]\n",
    "            i = 0  # Restart from the beginning after a swap\n",
    "        if not update[i+1] in rules[update[i]]:  # Check if the current pair is out of order\n",
    "            # Swap elements\n",
    "            update[i], update[i + 1] = update[i + 1], update[i]\n",
    "            i = 0  # Restart from the beginning after a swap\n",
    "        else:\n",
    "            i += 1  # Move to the next pair if no swap is needed\n",
    "\n",
    "    return update"
   ]
  },
  {
   "cell_type": "code",
   "execution_count": 233,
   "metadata": {},
   "outputs": [],
   "source": [
    "page_number_sum = 0\n",
    "for update in updates:\n",
    "    if not check_update(update):\n",
    "        reordered_update = reorder_update(update)\n",
    "        middle_page_idx = len(reordered_update) // 2\n",
    "        page_number_sum += int(reordered_update[middle_page_idx])"
   ]
  },
  {
   "cell_type": "code",
   "execution_count": 234,
   "metadata": {},
   "outputs": [
    {
     "name": "stdout",
     "output_type": "stream",
     "text": [
      "What do you get if you add up the middle page number from those correctly-ordered updates?? -> 4598\n"
     ]
    }
   ],
   "source": [
    "print(f'What do you get if you add up the middle page number from those correctly-ordered updates?? -> {page_number_sum}')"
   ]
  }
 ],
 "metadata": {
  "kernelspec": {
   "display_name": "Python 3.12.2 ('mainPY')",
   "language": "python",
   "name": "python3"
  },
  "language_info": {
   "codemirror_mode": {
    "name": "ipython",
    "version": 3
   },
   "file_extension": ".py",
   "mimetype": "text/x-python",
   "name": "python",
   "nbconvert_exporter": "python",
   "pygments_lexer": "ipython3",
   "version": "3.12.2"
  },
  "orig_nbformat": 4,
  "vscode": {
   "interpreter": {
    "hash": "ffca37c6f31e58eb9bb38876b4a6e74a181435be9f0c175f8480959184efaa0d"
   }
  }
 },
 "nbformat": 4,
 "nbformat_minor": 2
}
