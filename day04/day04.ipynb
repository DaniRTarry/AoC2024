{
 "cells": [
  {
   "cell_type": "code",
   "execution_count": 1,
   "metadata": {},
   "outputs": [
    {
     "name": "stdout",
     "output_type": "stream",
     "text": [
      "Fri Dec  6 18:32:46 2024\n"
     ]
    }
   ],
   "source": [
    "import time\n",
    "print(time.ctime(time.time()))"
   ]
  },
  {
   "cell_type": "code",
   "execution_count": 2,
   "metadata": {},
   "outputs": [],
   "source": [
    "import os\n",
    "\n",
    "import numpy as np\n",
    "import pandas as pd\n",
    "\n",
    "from pathlib import Path"
   ]
  },
  {
   "cell_type": "code",
   "execution_count": 3,
   "metadata": {},
   "outputs": [],
   "source": [
    "# Day of calendar\n",
    "day = 4"
   ]
  },
  {
   "cell_type": "code",
   "execution_count": 4,
   "metadata": {},
   "outputs": [],
   "source": [
    "# Set path to input\n",
    "input_dir = Path(os.path.abspath('')).parent"
   ]
  },
  {
   "cell_type": "code",
   "execution_count": 5,
   "metadata": {},
   "outputs": [],
   "source": [
    "# Read input file\n",
    "filepath = os.path.join(input_dir,'inputs','input_day%02d.txt' %(day))\n",
    "with open(filepath) as f:\n",
    "    input = []\n",
    "    for line in f:\n",
    "        input.append(list(line.strip()))\n",
    "grid = np.array(input)\n",
    "# input = []\n",
    "# f = open(filepath, 'r')\n",
    "# for line in f.readlines() :\n",
    "#     input.append(line.strip())"
   ]
  },
  {
   "cell_type": "code",
   "execution_count": 6,
   "metadata": {},
   "outputs": [
    {
     "data": {
      "text/plain": [
       "array([['M', 'M', 'S', ..., 'X', 'X', 'X'],\n",
       "       ['M', 'A', 'S', ..., 'M', 'M', 'S'],\n",
       "       ['M', 'M', 'S', ..., 'M', 'A', 'A'],\n",
       "       ...,\n",
       "       ['X', 'X', 'S', ..., 'S', 'M', 'M'],\n",
       "       ['S', 'M', 'M', ..., 'S', 'M', 'X'],\n",
       "       ['X', 'X', 'M', ..., 'M', 'A', 'S']], dtype='<U1')"
      ]
     },
     "execution_count": 6,
     "metadata": {},
     "output_type": "execute_result"
    }
   ],
   "source": [
    "grid"
   ]
  },
  {
   "cell_type": "markdown",
   "metadata": {},
   "source": [
    "## Part 1"
   ]
  },
  {
   "cell_type": "markdown",
   "metadata": {},
   "source": [
    "Take a look at the little Elf's word search. How many times does XMAS appear?"
   ]
  },
  {
   "cell_type": "code",
   "execution_count": 7,
   "metadata": {},
   "outputs": [],
   "source": [
    "word = 'XMAS'\n",
    "word_counter = 0"
   ]
  },
  {
   "cell_type": "code",
   "execution_count": 8,
   "metadata": {},
   "outputs": [],
   "source": [
    "# Define the vectors for the 8 possible directions to check\n",
    "directions = [\n",
    "    (1,0), # regular word\n",
    "    (-1,0), # backwards\n",
    "    (0,-1), # downwards\n",
    "    (0,1), # upwards\n",
    "    (1,1), # and all of the diagonals...\n",
    "    (1,-1),\n",
    "    (-1,1),\n",
    "    (-1,-1),\n",
    "]"
   ]
  },
  {
   "cell_type": "code",
   "execution_count": 9,
   "metadata": {},
   "outputs": [],
   "source": [
    "def check_character(x,y,dx,dy):\n",
    "    # Pre-check bounds to ensure the word fits\n",
    "    xi_end = x + dx * (len(word) - 1)\n",
    "    yi_end = y + dy * (len(word) - 1)\n",
    "    \n",
    "    # Ensure the final indices are within bounds\n",
    "    if not (0 <= xi_end < len(grid[0]) and 0 <= yi_end < len(grid)):\n",
    "        return False\n",
    "\n",
    "    # Check each character\n",
    "    for i in range(len(word)):\n",
    "        # New set of indices depending on the direction\n",
    "        xi = x + dx * i\n",
    "        yi = y + dy * i\n",
    "        \n",
    "        if grid[yi,xi] != word[i]:\n",
    "            return False\n",
    "\n",
    "    return True"
   ]
  },
  {
   "cell_type": "code",
   "execution_count": 10,
   "metadata": {},
   "outputs": [],
   "source": [
    "# Loop through every character of the grid and check every direction\n",
    "for y in range(grid.shape[0]):\n",
    "    for x in range(grid.shape[1]):\n",
    "        for dx,dy in directions:\n",
    "            if check_character(x,y,dx,dy):\n",
    "                word_counter += 1"
   ]
  },
  {
   "cell_type": "code",
   "execution_count": 11,
   "metadata": {},
   "outputs": [
    {
     "name": "stdout",
     "output_type": "stream",
     "text": [
      "How many times does XMAS appear? -> 2390\n"
     ]
    }
   ],
   "source": [
    "print(f'How many times does XMAS appear? -> {word_counter}')"
   ]
  },
  {
   "cell_type": "markdown",
   "metadata": {},
   "source": [
    "## Part 2"
   ]
  },
  {
   "cell_type": "markdown",
   "metadata": {},
   "source": [
    "It's an X-MAS puzzle in which you're supposed to find two MAS in the shape of an X. "
   ]
  },
  {
   "cell_type": "code",
   "execution_count": 12,
   "metadata": {},
   "outputs": [],
   "source": [
    "word_counter = 0\n",
    "# Loop through every character of the grid, except the edges\n",
    "for y in range(1,grid.shape[0]-1):\n",
    "    for x in range(1,grid.shape[1]-1):\n",
    "        # Only check if the center element is an A\n",
    "        if grid[y,x] == 'A':\n",
    "            # Grab diagonal elements\n",
    "            diagonal1 = ''.join([grid[y-1,x-1],grid[y,x],grid[y+1,x+1]])\n",
    "            diagonal2 = ''.join([grid[y+1,x-1],grid[y,x],grid[y-1,x+1]])\n",
    "            if diagonal1 in ('MAS','SAM') and diagonal2 in ('MAS','SAM'):\n",
    "                word_counter += 1"
   ]
  },
  {
   "cell_type": "code",
   "execution_count": 13,
   "metadata": {},
   "outputs": [
    {
     "name": "stdout",
     "output_type": "stream",
     "text": [
      "How many times does XMAS appear? -> 1809\n"
     ]
    }
   ],
   "source": [
    "print(f'How many times does XMAS appear? -> {word_counter}')"
   ]
  }
 ],
 "metadata": {
  "kernelspec": {
   "display_name": "Python 3.12.2 ('mainPY')",
   "language": "python",
   "name": "python3"
  },
  "language_info": {
   "codemirror_mode": {
    "name": "ipython",
    "version": 3
   },
   "file_extension": ".py",
   "mimetype": "text/x-python",
   "name": "python",
   "nbconvert_exporter": "python",
   "pygments_lexer": "ipython3",
   "version": "3.12.2"
  },
  "orig_nbformat": 4,
  "vscode": {
   "interpreter": {
    "hash": "ffca37c6f31e58eb9bb38876b4a6e74a181435be9f0c175f8480959184efaa0d"
   }
  }
 },
 "nbformat": 4,
 "nbformat_minor": 2
}
