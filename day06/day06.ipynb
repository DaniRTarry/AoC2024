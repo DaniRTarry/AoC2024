{
 "cells": [
  {
   "cell_type": "code",
   "execution_count": 1,
   "metadata": {},
   "outputs": [
    {
     "name": "stdout",
     "output_type": "stream",
     "text": [
      "Mon Dec  9 20:53:08 2024\n"
     ]
    }
   ],
   "source": [
    "import time\n",
    "print(time.ctime(time.time()))"
   ]
  },
  {
   "cell_type": "code",
   "execution_count": 2,
   "metadata": {},
   "outputs": [],
   "source": [
    "import os\n",
    "\n",
    "import numpy as np\n",
    "import pandas as pd\n",
    "\n",
    "from collections import Counter\n",
    "from pathlib import Path"
   ]
  },
  {
   "cell_type": "code",
   "execution_count": 3,
   "metadata": {},
   "outputs": [],
   "source": [
    "# Day of calendar\n",
    "day = 6"
   ]
  },
  {
   "cell_type": "code",
   "execution_count": 4,
   "metadata": {},
   "outputs": [],
   "source": [
    "# Set path to input\n",
    "input_dir = Path(os.path.abspath('')).parent"
   ]
  },
  {
   "cell_type": "code",
   "execution_count": 5,
   "metadata": {},
   "outputs": [],
   "source": [
    "# Read input file\n",
    "filepath = os.path.join(input_dir,'inputs','input_day%02d.txt' %(day))\n",
    "#filepath = os.path.join(input_dir,'inputs','input_test.txt')\n",
    "with open(filepath) as f:\n",
    "    input = []\n",
    "    for line in f:\n",
    "        input.append(list(line.strip()))\n",
    "grid = np.array(input)"
   ]
  },
  {
   "cell_type": "code",
   "execution_count": 6,
   "metadata": {},
   "outputs": [
    {
     "data": {
      "text/plain": [
       "array([['.', '#', '.', ..., '.', '.', '.'],\n",
       "       ['.', '.', '.', ..., '.', '.', '.'],\n",
       "       ['.', '#', '.', ..., '.', '.', '.'],\n",
       "       ...,\n",
       "       ['.', '.', '.', ..., '.', '.', '.'],\n",
       "       ['.', '#', '.', ..., '.', '.', '.'],\n",
       "       ['.', '.', '.', ..., '.', '.', '.']], dtype='<U1')"
      ]
     },
     "execution_count": 6,
     "metadata": {},
     "output_type": "execute_result"
    }
   ],
   "source": [
    "grid"
   ]
  },
  {
   "cell_type": "markdown",
   "metadata": {},
   "source": [
    "## Part 1"
   ]
  },
  {
   "cell_type": "markdown",
   "metadata": {},
   "source": [
    "Predict the path of the guard"
   ]
  },
  {
   "cell_type": "code",
   "execution_count": 7,
   "metadata": {},
   "outputs": [],
   "source": [
    "# This will be our track matrix\n",
    "guard_position = np.zeros_like(grid,dtype=int)"
   ]
  },
  {
   "cell_type": "code",
   "execution_count": 8,
   "metadata": {},
   "outputs": [],
   "source": [
    "# First locate the guard's starting position\n",
    "def start_idx(outer_list, target):\n",
    "    for i, inner_list in enumerate(outer_list):\n",
    "        if target in inner_list:\n",
    "            j = inner_list.index(target)\n",
    "            return i, j  # Return the row and column indices\n",
    "    return None  # Return None if the element is not found\n",
    "\n",
    "y1, x1 = np.where(grid=='^')\n",
    "y1, x1 = y1[0], x1[0]"
   ]
  },
  {
   "cell_type": "code",
   "execution_count": 9,
   "metadata": {},
   "outputs": [],
   "source": [
    "# Next step based on where the guard is looking\n",
    "def next_step(face,x,y):\n",
    "    if face == '^':\n",
    "        dx, dy = (0,-1)\n",
    "    elif face == '>':\n",
    "        dx, dy = (1,0)\n",
    "    elif face == 'v':\n",
    "        dx, dy = (0,1)\n",
    "    elif face == '<':\n",
    "        dx, dy = (-1,0)\n",
    "\n",
    "    xi = x + dx\n",
    "    yi = y + dy\n",
    "\n",
    "    return xi,yi"
   ]
  },
  {
   "cell_type": "code",
   "execution_count": 10,
   "metadata": {},
   "outputs": [],
   "source": [
    "directions = ['^', '>', 'v', '<']\n",
    "current_direction = '^'\n",
    "x, y = x1, y1\n",
    "guard_position[y,x] = 1\n",
    "\n",
    "while not (x == 0 or x == grid.shape[1] - 1 or y == 0 or y == grid.shape[0] - 1):\n",
    "    x_next, y_next = next_step(current_direction, x, y)\n",
    "\n",
    "    # Check for obstacles\n",
    "    while grid[y_next, x_next] == '#':\n",
    "        # Update direction cyclically\n",
    "        current_direction = directions[(directions.index(current_direction) + 1) % len(directions)]\n",
    "        x_next, y_next = next_step(current_direction, x, y)\n",
    "\n",
    "    # Record \n",
    "    # Move to the next valid position\n",
    "    x, y = x_next, y_next\n",
    "    guard_position[y,x] = 1\n"
   ]
  },
  {
   "cell_type": "code",
   "execution_count": 11,
   "metadata": {},
   "outputs": [
    {
     "name": "stdout",
     "output_type": "stream",
     "text": [
      "How many distinct positions will the guard visit before leaving the mapped area? -> 5030\n"
     ]
    }
   ],
   "source": [
    "print(f'How many distinct positions will the guard visit before leaving the mapped area? -> {guard_position.sum()}')"
   ]
  },
  {
   "cell_type": "markdown",
   "metadata": {},
   "source": [
    "## Part 2"
   ]
  },
  {
   "cell_type": "markdown",
   "metadata": {},
   "source": [
    "Lets add a single new obstruction and check if the guard is stuck in a loop"
   ]
  },
  {
   "cell_type": "code",
   "execution_count": 12,
   "metadata": {},
   "outputs": [],
   "source": [
    "loop_matrix = np.full_like(guard_position, fill_value=0)"
   ]
  },
  {
   "cell_type": "code",
   "execution_count": 13,
   "metadata": {},
   "outputs": [],
   "source": [
    "loop_count = 0\n",
    "# Loop through every single location\n",
    "for i in range(grid.shape[0]):\n",
    "    for j in range(grid.shape[1]):\n",
    "        # Place new obstacle if it is possible\n",
    "        if not grid[i,j] == '.':\n",
    "            continue\n",
    "\n",
    "        new_grid = grid.copy()\n",
    "        new_grid[i,j] = '#' # place new obstacle\n",
    "        loop = False\n",
    "\n",
    "        # Reset guard position and direction\n",
    "        current_direction = '^'\n",
    "        x, y = x1, y1\n",
    "        # This will be our track matrix\n",
    "        guard_position = np.zeros_like(grid,dtype=int)\n",
    "        guard_position[y,x] = 1\n",
    "        guard_direction = np.empty_like(guard_position, dtype=str)\n",
    "        guard_direction[y,x] = current_direction\n",
    "\n",
    "        while not (x == 0 or x == grid.shape[1] - 1 or y == 0 or y == grid.shape[0] - 1) and not loop:\n",
    "            x_next, y_next = next_step(current_direction, x, y)\n",
    "\n",
    "            # Check for obstacles\n",
    "            while new_grid[y_next, x_next] == '#':\n",
    "                # Update direction cyclically\n",
    "                current_direction = directions[(directions.index(current_direction) + 1) % len(directions)]\n",
    "                x_next, y_next = next_step(current_direction, x, y)\n",
    "\n",
    "            # Check if the guard has already visited the next position facing the same direction\n",
    "            if guard_position[y_next,x_next] == 1 and guard_direction[y_next,x_next] == current_direction:\n",
    "                loop_count += 1\n",
    "                loop_matrix[i,j] = 1\n",
    "                loop = True\n",
    "\n",
    "\n",
    "            # Record \n",
    "            # Move to the next valid position\n",
    "            x, y = x_next, y_next\n",
    "            guard_position[y,x] = 1\n",
    "            guard_direction[y,x] = current_direction"
   ]
  },
  {
   "cell_type": "code",
   "execution_count": 14,
   "metadata": {},
   "outputs": [
    {
     "name": "stdout",
     "output_type": "stream",
     "text": [
      "How many different positions could you choose for this obstruction? -> 1928\n"
     ]
    }
   ],
   "source": [
    "print(f'How many different positions could you choose for this obstruction? -> {loop_count}')"
   ]
  }
 ],
 "metadata": {
  "kernelspec": {
   "display_name": "Python 3.12.2 ('mainPY')",
   "language": "python",
   "name": "python3"
  },
  "language_info": {
   "codemirror_mode": {
    "name": "ipython",
    "version": 3
   },
   "file_extension": ".py",
   "mimetype": "text/x-python",
   "name": "python",
   "nbconvert_exporter": "python",
   "pygments_lexer": "ipython3",
   "version": "3.12.2"
  },
  "orig_nbformat": 4,
  "vscode": {
   "interpreter": {
    "hash": "ffca37c6f31e58eb9bb38876b4a6e74a181435be9f0c175f8480959184efaa0d"
   }
  }
 },
 "nbformat": 4,
 "nbformat_minor": 2
}
