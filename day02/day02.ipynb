{
 "cells": [
  {
   "cell_type": "code",
   "execution_count": 74,
   "metadata": {},
   "outputs": [
    {
     "name": "stdout",
     "output_type": "stream",
     "text": [
      "Mon Dec  2 17:46:00 2024\n"
     ]
    }
   ],
   "source": [
    "import time\n",
    "print(time.ctime(time.time()))"
   ]
  },
  {
   "cell_type": "code",
   "execution_count": 75,
   "metadata": {},
   "outputs": [],
   "source": [
    "import copy\n",
    "import os\n",
    "\n",
    "import numpy as np\n",
    "import pandas as pd\n",
    "\n",
    "from pathlib import Path"
   ]
  },
  {
   "cell_type": "code",
   "execution_count": 76,
   "metadata": {},
   "outputs": [],
   "source": [
    "# Day of calendar\n",
    "day = 2"
   ]
  },
  {
   "cell_type": "code",
   "execution_count": 77,
   "metadata": {},
   "outputs": [],
   "source": [
    "# Set path to input\n",
    "input_dir = Path(os.path.abspath('')).parent"
   ]
  },
  {
   "cell_type": "code",
   "execution_count": 78,
   "metadata": {},
   "outputs": [],
   "source": [
    "# Read input file as a list\n",
    "filepath = os.path.join(input_dir,'inputs','input_day%02d.txt' %(day))\n",
    "with open(filepath, 'r') as f:\n",
    "    lines = f.readlines()\n",
    "    input = []\n",
    "    for line in lines:\n",
    "        row = [int(num) for num in line.strip().split()]\n",
    "        input.append(row)"
   ]
  },
  {
   "cell_type": "markdown",
   "metadata": {},
   "source": [
    "## Part 1"
   ]
  },
  {
   "cell_type": "markdown",
   "metadata": {},
   "source": [
    "A report only counts as safe if both of the following are true:\n",
    " - The levels are either all increasing or all decreasing.\n",
    " - Any two adjacent levels differ by at least one and at most three."
   ]
  },
  {
   "cell_type": "code",
   "execution_count": 79,
   "metadata": {},
   "outputs": [],
   "source": [
    "# Loop through every report\n",
    "report_check = [None] * len(input)\n",
    "for i,report in enumerate(input):\n",
    "    # Calculate differences\n",
    "    differences = np.diff(report)\n",
    "    # Check if all of them are positive or negative\n",
    "    same_sign = (differences > 0).all() or (differences < 0).all()\n",
    "    # Check that the values are 1>=V<=3\n",
    "    within_bounds = (abs(differences)<=3).all() and (abs(differences)>=1).all()\n",
    "\n",
    "    report_check[i] = same_sign and within_bounds"
   ]
  },
  {
   "cell_type": "markdown",
   "metadata": {},
   "source": [
    "How many reports are safe?"
   ]
  },
  {
   "cell_type": "code",
   "execution_count": 80,
   "metadata": {},
   "outputs": [
    {
     "data": {
      "text/plain": [
       "306"
      ]
     },
     "execution_count": 80,
     "metadata": {},
     "output_type": "execute_result"
    }
   ],
   "source": [
    "report_check_part1 = np.array(report_check)\n",
    "report_check_part1.sum()"
   ]
  },
  {
   "cell_type": "markdown",
   "metadata": {},
   "source": [
    "## Part 2"
   ]
  },
  {
   "cell_type": "markdown",
   "metadata": {},
   "source": [
    "Now a single bad value is tolerated"
   ]
  },
  {
   "cell_type": "code",
   "execution_count": 81,
   "metadata": {},
   "outputs": [],
   "source": [
    "# Loop through every report as previously\n",
    "report_check = [None] * len(input)\n",
    "for i,report in enumerate(input):\n",
    "    # Calculate differences\n",
    "    differences = np.diff(report)\n",
    "    # Check if all of them are positive or negative\n",
    "    same_sign = (differences > 0).all() or (differences < 0).all()\n",
    "    # Check that the values are 1>=V<=3\n",
    "    within_bounds = (abs(differences)<=3).all() and (abs(differences)>=1).all()\n",
    "\n",
    "    if same_sign and within_bounds: # If condition applies then go on\n",
    "        report_check[i] = same_sign and within_bounds\n",
    "    else: # IF NOT, loop through the list removing one element\n",
    "        for j,element in enumerate(report):\n",
    "            new_report = copy.deepcopy(report)  # Create a deep copy of the report\n",
    "            new_report.remove(element)  # Modify the copy by removing the element\n",
    "            ### Go through the previous process\n",
    "            # Calculate differences\n",
    "            differences = np.diff(new_report)\n",
    "            # Check if all of them are positive or negative\n",
    "            same_sign = (differences > 0).all() or (differences < 0).all()\n",
    "            # Check that the values are 1>=V<=3\n",
    "            within_bounds = (abs(differences)<=3).all() and (abs(differences)>=1).all()\n",
    "\n",
    "            # If condition applies then REPORT is SAFE and we can carry on to the next one\n",
    "            report_check[i] = same_sign and within_bounds\n",
    "            if same_sign and within_bounds:\n",
    "                break   \n",
    "      "
   ]
  },
  {
   "cell_type": "markdown",
   "metadata": {},
   "source": [
    "How many reports are safe now?"
   ]
  },
  {
   "cell_type": "code",
   "execution_count": 82,
   "metadata": {},
   "outputs": [
    {
     "data": {
      "text/plain": [
       "363"
      ]
     },
     "execution_count": 82,
     "metadata": {},
     "output_type": "execute_result"
    }
   ],
   "source": [
    "report_check_part2 = np.array(report_check)\n",
    "report_check_part2.sum()"
   ]
  },
  {
   "cell_type": "markdown",
   "metadata": {},
   "source": [
    "HEAR ME OUT, there must be some edge case because the correct answer is 366"
   ]
  }
 ],
 "metadata": {
  "kernelspec": {
   "display_name": "Python 3.12.2 ('mainPY')",
   "language": "python",
   "name": "python3"
  },
  "language_info": {
   "codemirror_mode": {
    "name": "ipython",
    "version": 3
   },
   "file_extension": ".py",
   "mimetype": "text/x-python",
   "name": "python",
   "nbconvert_exporter": "python",
   "pygments_lexer": "ipython3",
   "version": "3.12.2"
  },
  "orig_nbformat": 4,
  "vscode": {
   "interpreter": {
    "hash": "ffca37c6f31e58eb9bb38876b4a6e74a181435be9f0c175f8480959184efaa0d"
   }
  }
 },
 "nbformat": 4,
 "nbformat_minor": 2
}
